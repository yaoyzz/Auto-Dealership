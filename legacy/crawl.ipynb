{
 "cells": [
  {
   "cell_type": "code",
   "execution_count": 1,
   "id": "d6e4b344-6339-412f-8794-7a99df7bd1b0",
   "metadata": {},
   "outputs": [],
   "source": [
    "import scrapy\n",
    "from scrapy.http import Request"
   ]
  },
  {
   "cell_type": "code",
   "execution_count": 4,
   "id": "eead0d97-5101-477a-b60d-63a0a677ffc8",
   "metadata": {},
   "outputs": [
    {
     "ename": "AttributeError",
     "evalue": "'Request' object has no attribute 'response'",
     "output_type": "error",
     "traceback": [
      "\u001b[1;31m---------------------------------------------------------------------------\u001b[0m",
      "\u001b[1;31mAttributeError\u001b[0m                            Traceback (most recent call last)",
      "Cell \u001b[1;32mIn[4], line 20\u001b[0m\n\u001b[0;32m     17\u001b[0m request \u001b[38;5;241m=\u001b[39m Request(url\u001b[38;5;241m=\u001b[39mspider\u001b[38;5;241m.\u001b[39mstart_urls[\u001b[38;5;241m0\u001b[39m], callback\u001b[38;5;241m=\u001b[39mspider\u001b[38;5;241m.\u001b[39mparse)\n\u001b[0;32m     19\u001b[0m \u001b[38;5;66;03m# Send the request and retrieve the response\u001b[39;00m\n\u001b[1;32m---> 20\u001b[0m response \u001b[38;5;241m=\u001b[39m \u001b[43mscrapy\u001b[49m\u001b[38;5;241;43m.\u001b[39;49m\u001b[43mRequest\u001b[49m\u001b[43m(\u001b[49m\u001b[43mspider\u001b[49m\u001b[38;5;241;43m.\u001b[39;49m\u001b[43mstart_urls\u001b[49m\u001b[43m[\u001b[49m\u001b[38;5;241;43m0\u001b[39;49m\u001b[43m]\u001b[49m\u001b[43m)\u001b[49m\u001b[38;5;241;43m.\u001b[39;49m\u001b[43mresponse\u001b[49m\n\u001b[0;32m     22\u001b[0m \u001b[38;5;66;03m# Call the parse() method with the response\u001b[39;00m\n\u001b[0;32m     23\u001b[0m results \u001b[38;5;241m=\u001b[39m spider\u001b[38;5;241m.\u001b[39mparse(response)\n",
      "\u001b[1;31mAttributeError\u001b[0m: 'Request' object has no attribute 'response'"
     ]
    }
   ],
   "source": [
    "import scrapy\n",
    "from scrapy.http import Request\n",
    "\n",
    "class MySpider(scrapy.Spider):\n",
    "    name = \"spider_beavertontoyota\"\n",
    "    start_urls = ['https://www.beavertontoyota.com/']\n",
    "\n",
    "    def parse(self, response):\n",
    "        logo_url = response.xpath('/html/body/div[1]/header/div/div[1]/div[1]/ul/li[2]/a/img/@src').get()\n",
    "        yield {\n",
    "            'logo_url': logo_url\n",
    "        }\n",
    "        "
   ]
  },
  {
   "cell_type": "code",
   "execution_count": 3,
   "id": "edcb4cfa-ad6e-47c7-b61b-abcf457654ca",
   "metadata": {
    "tags": []
   },
   "outputs": [
    {
     "ename": "NameError",
     "evalue": "name 'url' is not defined",
     "output_type": "error",
     "traceback": [
      "\u001b[1;31m---------------------------------------------------------------------------\u001b[0m",
      "\u001b[1;31mNameError\u001b[0m                                 Traceback (most recent call last)",
      "Cell \u001b[1;32mIn[3], line 2\u001b[0m\n\u001b[0;32m      1\u001b[0m spider \u001b[38;5;241m=\u001b[39m MySpider()\n\u001b[1;32m----> 2\u001b[0m results \u001b[38;5;241m=\u001b[39m spider\u001b[38;5;241m.\u001b[39mparse(\u001b[43murl\u001b[49m)\n\u001b[0;32m      3\u001b[0m \u001b[38;5;28;01mfor\u001b[39;00m result \u001b[38;5;129;01min\u001b[39;00m results:\n\u001b[0;32m      4\u001b[0m     \u001b[38;5;28mprint\u001b[39m(result)\n",
      "\u001b[1;31mNameError\u001b[0m: name 'url' is not defined"
     ]
    }
   ],
   "source": [
    "spider = MySpider()\n",
    "results = spider.parse(url)\n",
    "for result in results:\n",
    "    print(result)"
   ]
  },
  {
   "cell_type": "code",
   "execution_count": null,
   "id": "1d08f4eb-30b6-4ee4-ab76-2779ed866409",
   "metadata": {},
   "outputs": [],
   "source": []
  }
 ],
 "metadata": {
  "kernelspec": {
   "display_name": "Python 3 (ipykernel)",
   "language": "python",
   "name": "python3"
  },
  "language_info": {
   "codemirror_mode": {
    "name": "ipython",
    "version": 3
   },
   "file_extension": ".py",
   "mimetype": "text/x-python",
   "name": "python",
   "nbconvert_exporter": "python",
   "pygments_lexer": "ipython3",
   "version": "3.11.2"
  }
 },
 "nbformat": 4,
 "nbformat_minor": 5
}
